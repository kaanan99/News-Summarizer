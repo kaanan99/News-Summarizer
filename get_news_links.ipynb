{
 "cells": [
  {
   "cell_type": "code",
   "execution_count": 1,
   "metadata": {},
   "outputs": [],
   "source": [
    "import os\n",
    "import smtplib\n",
    "from email.mime.multipart import MIMEMultipart\n",
    "from email.mime.text import MIMEText\n",
    "\n",
    "from openai import OpenAI\n",
    "from GoogleNews import GoogleNews"
   ]
  },
  {
   "cell_type": "code",
   "execution_count": 2,
   "metadata": {},
   "outputs": [],
   "source": [
    "client = OpenAI()"
   ]
  },
  {
   "cell_type": "code",
   "execution_count": 3,
   "metadata": {},
   "outputs": [],
   "source": [
    "googlenews = GoogleNews(period=\"1d\")"
   ]
  },
  {
   "cell_type": "code",
   "execution_count": 4,
   "metadata": {},
   "outputs": [],
   "source": [
    "topic = \"CAAqJggKIiBDQkFTRWdvSUwyMHZNRGx6TVdZU0FtVnVHZ0pWVXlnQVAB\""
   ]
  },
  {
   "cell_type": "code",
   "execution_count": 5,
   "metadata": {},
   "outputs": [],
   "source": [
    "googlenews.set_topic(topic)\n",
    "\n",
    "googlenews.get_news()\n",
    "news = googlenews.result()\n",
    "headlines = [obj[\"title\"] for obj in news]"
   ]
  },
  {
   "cell_type": "code",
   "execution_count": 9,
   "metadata": {},
   "outputs": [],
   "source": [
    "with open(\"test_headlines.txt\", \"w\") as f:\n",
    "    f.write(\"\\n\".join(headlines))"
   ]
  },
  {
   "cell_type": "code",
   "execution_count": 6,
   "metadata": {},
   "outputs": [],
   "source": [
    "system_message = \"You are a summarization tool whose goal is to summarize all the information provided. You want to be as specific as possible in your summarizations. Your input is todays financial news headlines. Return the summary of todays news in the format of a bullet point list. Each bullet should begin with the '-' character.\""
   ]
  },
  {
   "cell_type": "code",
   "execution_count": 7,
   "metadata": {},
   "outputs": [],
   "source": [
    "chat_completion = client.chat.completions.create(\n",
    "    messages=[\n",
    "        {\"role\": \"system\", \"content\": system_message},\n",
    "        {\"role\": \"user\", \"content\": \"|\".join(headlines)},\n",
    "    ],\n",
    "    model=\"gpt-4o-mini\",\n",
    ")\n",
    "\n",
    "summarized_headlines = chat_completion.choices[0].message.content\n",
    "bullet_points = summarized_headlines.split(\"\\n\")"
   ]
  },
  {
   "cell_type": "code",
   "execution_count": 8,
   "metadata": {},
   "outputs": [],
   "source": [
    "def send_email(sender_email, sender_password, recipient_email, subject, body):\n",
    "    # Create a multipart message\n",
    "    msg = MIMEMultipart()\n",
    "    msg['From'] = sender_email\n",
    "    msg['To'] = recipient_email\n",
    "    msg['Subject'] = subject\n",
    "\n",
    "    # Attach the body to the message\n",
    "    msg.attach(MIMEText(body, 'plain'))\n",
    "\n",
    "    # try:\n",
    "    with smtplib.SMTP_SSL('smtp.gmail.com', 465) as smtp_server:\n",
    "        smtp_server.login(sender_email, sender_password)\n",
    "        smtp_server.sendmail(sender_email, recipient_email, msg.as_string())\n",
    "        print(f\"Email sent successfully to {recipient_email}\")\n",
    "    # except Exception as e:\n",
    "    #     print(f\"Error sending to {recipient_email}: {e}\")"
   ]
  },
  {
   "cell_type": "code",
   "execution_count": 14,
   "metadata": {},
   "outputs": [],
   "source": [
    "recipients = [\"kaanan99@gmail.com\"]\n",
    "\n",
    "subject = \"Financial News letter from 10/15/2024\"\n",
    "\n",
    "body = \"Hello!\\nHere are some highlights from todays financial news:\\n\"\n",
    "\n",
    "for bullet in bullet_points:\n",
    "    body += \"\\n\\t\" + bullet + \"\\n\"\n",
    "\n",
    "sender_email = os.getenv(\"EMAIL_USERNAME\")\n",
    "sender_password = os.getenv(\"EMAIL_PASSWORD\")"
   ]
  },
  {
   "cell_type": "code",
   "execution_count": null,
   "metadata": {},
   "outputs": [],
   "source": [
    "for receptient in recipients:\n",
    "    send_email(sender_email, sender_password, receptient, subject, body)"
   ]
  }
 ],
 "metadata": {
  "kernelspec": {
   "display_name": "news_summarizer",
   "language": "python",
   "name": "python3"
  },
  "language_info": {
   "codemirror_mode": {
    "name": "ipython",
    "version": 3
   },
   "file_extension": ".py",
   "mimetype": "text/x-python",
   "name": "python",
   "nbconvert_exporter": "python",
   "pygments_lexer": "ipython3",
   "version": "3.12.7"
  }
 },
 "nbformat": 4,
 "nbformat_minor": 2
}
